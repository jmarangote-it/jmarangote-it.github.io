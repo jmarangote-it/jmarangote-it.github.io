{
 "cells": [
  {
   "cell_type": "code",
   "execution_count": 116,
   "id": "d0c583b2-7b49-4854-9f08-34d87bdc35fb",
   "metadata": {},
   "outputs": [],
   "source": [
    "from bs4 import BeautifulSoup\n",
    "import requests\n",
    "import pandas as pd\n",
    "from decimal import Decimal"
   ]
  },
  {
   "cell_type": "code",
   "execution_count": 118,
   "id": "52183ff8-3a7d-4d43-af8f-7183adf9fd39",
   "metadata": {},
   "outputs": [],
   "source": [
    "URL = 'https://en.wikipedia.org/wiki/List_of_largest_companies_in_the_United_States_by_revenue'\n",
    "\n",
    "page = requests.get(URL)\n",
    "soup = BeautifulSoup(page.text, 'html.parser')"
   ]
  },
  {
   "cell_type": "code",
   "execution_count": 119,
   "id": "e3f51982-944d-4daa-a518-d1c51742dabc",
   "metadata": {},
   "outputs": [],
   "source": [
    "table = soup.find_all('table')[1]"
   ]
  },
  {
   "cell_type": "code",
   "execution_count": 122,
   "id": "91f9ae02-7b83-4ded-8c94-4ae08c6d74ed",
   "metadata": {},
   "outputs": [],
   "source": [
    "world_titles = table.find_all('th')\n",
    "headers = [title.text.strip() for title in world_titles]\n",
    "\n",
    "df = pd.DataFrame(columns = headers)"
   ]
  },
  {
   "cell_type": "code",
   "execution_count": 124,
   "id": "bcb004fe-fdf4-4e75-97cd-a3c223fdf8ed",
   "metadata": {},
   "outputs": [],
   "source": [
    "rows = table.find_all('tr')[1:]\n",
    "for row in rows:\n",
    "    cells = row.find_all('td')\n",
    "    row_data = []\n",
    "    for cell in cells:\n",
    "        img = cell.find('img')\n",
    "        if img:\n",
    "            alt_text = img.get('alt', '').strip()\n",
    "            row_data.append(cell.text.strip()+ ' ' + alt_text)\n",
    "        else:\n",
    "            row_data.append(cell.text.strip())\n",
    "    row_index = len(df)\n",
    "    df.loc[row_index] = row_data"
   ]
  },
  {
   "cell_type": "code",
   "execution_count": 133,
   "id": "69bf1481-5cc4-488b-91a4-c79d8411574f",
   "metadata": {},
   "outputs": [],
   "source": [
    "df[['Revenue growth rate', 'Revenue growth direction']] = df['Revenue growth'].str.extract(r'([\\d\\.\\-]+%)\\s*(Increase|Decrease)')\n",
    "\n",
    "df['Revenue growth rate'] = df['Revenue growth rate'].str.replace('%', '').apply(Decimal)\n",
    "df['Revenue growth rate'] = df.apply(lambda row: row['Revenue growth rate'] * (1 if row['Revenue growth direction'] == 'Increase' else -1), axis=1)"
   ]
  },
  {
   "cell_type": "code",
   "execution_count": 135,
   "id": "4e243a07-b7af-4bd5-9ee3-5e5f55e00432",
   "metadata": {},
   "outputs": [],
   "source": [
    "df[['Headquarters city', 'Headquarters state']] = df['Headquarters'].str.split(',', n=1, expand=True)"
   ]
  },
  {
   "cell_type": "code",
   "execution_count": 137,
   "id": "7dd2c118-4a67-45c1-9c02-79e93507bdd0",
   "metadata": {},
   "outputs": [],
   "source": [
    "df.to_csv(r\"D:/Download/companies.csv\", index = False)"
   ]
  },
  {
   "cell_type": "code",
   "execution_count": null,
   "id": "1b93962a-ba82-4c1e-aa36-041e92c6ee67",
   "metadata": {},
   "outputs": [],
   "source": []
  }
 ],
 "metadata": {
  "kernelspec": {
   "display_name": "Python 3 (ipykernel)",
   "language": "python",
   "name": "python3"
  },
  "language_info": {
   "codemirror_mode": {
    "name": "ipython",
    "version": 3
   },
   "file_extension": ".py",
   "mimetype": "text/x-python",
   "name": "python",
   "nbconvert_exporter": "python",
   "pygments_lexer": "ipython3",
   "version": "3.12.4"
  }
 },
 "nbformat": 4,
 "nbformat_minor": 5
}
